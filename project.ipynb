{
 "cells": [
  {
   "cell_type": "code",
   "execution_count": 44,
   "metadata": {},
   "outputs": [],
   "source": [
    "import numpy as np\n",
    "\n",
    "filename = \"dataset/trainData.txt\"\n",
    "\n",
    "numFeatures = 6"
   ]
  },
  {
   "cell_type": "code",
   "execution_count": 45,
   "metadata": {},
   "outputs": [],
   "source": [
    "def loadDataSet(path):\n",
    "    rawData = np.genfromtxt(path, delimiter=',', dtype = \"str\")\n",
    "\n",
    "    #extract the 6 feature for each footprint\n",
    "    features = rawData[:, 0:numFeatures]\n",
    "    features = np.array(features, dtype= np.float64).T\n",
    "\n",
    "    #extract the labels: 1->True, 0->False\n",
    "    labels = rawData[:, -1]\n",
    "\n",
    "    return features, labels\n",
    "\n"
   ]
  },
  {
   "cell_type": "code",
   "execution_count": 46,
   "metadata": {},
   "outputs": [
    {
     "name": "stdout",
     "output_type": "stream",
     "text": [
      "features shape: (6, 6000)\n",
      "Labels shape: (6000,)\n"
     ]
    }
   ],
   "source": [
    "features, labels = loadDataSet(filename)\n",
    "\n",
    "print(f\"features shape: {features.shape}\\nLabels shape: {labels.shape}\")"
   ]
  },
  {
   "cell_type": "markdown",
   "metadata": {},
   "source": [
    "features: columns are samples, rows are the 6 features"
   ]
  },
  {
   "cell_type": "code",
   "execution_count": 47,
   "metadata": {},
   "outputs": [
    {
     "data": {
      "text/plain": [
       "array([[ 1.85284048, -0.21530775,  0.04653456, -0.69846824, -2.13449634,\n",
       "        -0.18678977,  0.37954862,  0.25194121,  1.02611325,  0.12159774],\n",
       "       [-0.16436898,  1.63665974, -1.16487257, -0.7313877 , -0.94679643,\n",
       "        -0.35105166,  0.07035488, -0.536285  ,  0.84958757, -0.44862065],\n",
       "       [ 1.09839078, -0.61831145,  0.04392191,  0.22682514,  0.7331265 ,\n",
       "         0.25874009,  0.74192792,  0.98317697, -0.34210771, -0.26330183],\n",
       "       [-0.93073689,  0.99002204, -0.41369086,  0.1487948 , -3.50433306,\n",
       "         0.82430276,  0.21831212, -1.43683554,  0.84965311, -0.31580565],\n",
       "       [-1.0193342 ,  0.38670252, -1.08847926, -1.44462156, -1.82338742,\n",
       "        -1.24295012,  1.30277214,  0.74408647,  0.12493949,  1.42245348],\n",
       "       [ 1.16696309,  1.15926273, -1.37988988,  1.17573859,  0.90464917,\n",
       "        -0.09511962, -1.32719263,  1.43401058,  0.69336959, -1.00038176]])"
      ]
     },
     "execution_count": 47,
     "metadata": {},
     "output_type": "execute_result"
    }
   ],
   "source": [
    "features[:, :10] #feature 0 to 5, first 10 samples"
   ]
  },
  {
   "cell_type": "markdown",
   "metadata": {},
   "source": [
    "## Features normalization "
   ]
  },
  {
   "cell_type": "code",
   "execution_count": 36,
   "metadata": {},
   "outputs": [
    {
     "name": "stdout",
     "output_type": "stream",
     "text": [
      "Mu before reshaping: [ 0.00170711  0.00503903 -0.00560753  0.00109537 -0.00700025  0.00910515]\n",
      "\n",
      "Mu after reshaping:\n",
      " [[ 0.00170711]\n",
      " [ 0.00503903]\n",
      " [-0.00560753]\n",
      " [ 0.00109537]\n",
      " [-0.00700025]\n",
      " [ 0.00910515]]\n",
      "\n"
     ]
    }
   ],
   "source": [
    "#Compute mean\n",
    "mu = features.mean(axis=1) #shape is (6, )\n",
    "\n",
    "print(f\"Mu before reshaping: {mu}\\n\")\n",
    "#Reshape the mean to subtract it to the features\n",
    "mu = mu.reshape((mu.shape[0], 1))   #(6, 1)\n",
    "\n",
    "print(f\"Mu after reshaping:\\n {mu}\\n\")"
   ]
  },
  {
   "cell_type": "code",
   "execution_count": 37,
   "metadata": {},
   "outputs": [
    {
     "data": {
      "text/plain": [
       "(6,)"
      ]
     },
     "execution_count": 37,
     "metadata": {},
     "output_type": "execute_result"
    }
   ],
   "source": [
    "#Std Dev\n",
    "std = features.std(1)\n",
    "\n",
    "std.shape"
   ]
  },
  {
   "cell_type": "code",
   "execution_count": 39,
   "metadata": {},
   "outputs": [
    {
     "name": "stdout",
     "output_type": "stream",
     "text": [
      "Features shape: (6, 6000)\n",
      "Mu shape: (6, 1)\n",
      "Std shape: (6,)\n"
     ]
    }
   ],
   "source": [
    "print(f\"Features shape: {features.shape}\\nMu shape: {mu.shape}\\nStd shape: {std.shape}\")"
   ]
  },
  {
   "cell_type": "code",
   "execution_count": 41,
   "metadata": {},
   "outputs": [
    {
     "data": {
      "text/plain": [
       "(6, 1)"
      ]
     },
     "execution_count": 41,
     "metadata": {},
     "output_type": "execute_result"
    }
   ],
   "source": [
    "#I have to reshape the std!\n",
    "std = std.reshape((std.shape[0], 1))\n",
    "std.shape"
   ]
  },
  {
   "cell_type": "code",
   "execution_count": 50,
   "metadata": {},
   "outputs": [
    {
     "name": "stdout",
     "output_type": "stream",
     "text": [
      "Shape of normaliized features: (6, 6000)\n",
      "Shape of original features:(6, 6000)\n",
      "Mean:\n",
      " [[ 0.00170711]\n",
      " [ 0.00503903]\n",
      " [-0.00560753]\n",
      " [ 0.00109537]\n",
      " [-0.00700025]\n",
      " [ 0.00910515]]\n",
      " Std:\n",
      " [[1.00067129]\n",
      " [0.99917601]\n",
      " [1.00124013]\n",
      " [0.99513511]\n",
      " [1.00059856]\n",
      " [0.99861091]]\n",
      "features, sample0 before norm: [ 1.85284048 -0.16436898  1.09839078 -0.93073689 -1.0193342   1.16696309]\n",
      "feature, sample0 after norm: [ 1.84989155 -0.16954771  1.1026309  -0.93638768 -1.01172838  1.15946855]\n"
     ]
    }
   ],
   "source": [
    "#Normalization\n",
    "\n",
    "normalizedFeatures = (features - mu) / std\n",
    "\n",
    "print(f\"Shape of normaliized features: {normalizedFeatures.shape}\\nShape of original features:{features.shape}\")\n",
    "print(f\"Mean:\\n {mu}\\n Std:\\n {std}\")\n",
    "\n",
    "\n",
    "#show all the 6 features for sample 0, before and after normalzation\n",
    "print(f\"features, sample0 before norm: {features[:, 0]}\\nfeature, sample0 after norm: {normalizedFeatures[:, 0]}\") "
   ]
  }
 ],
 "metadata": {
  "kernelspec": {
   "display_name": "Python 3",
   "language": "python",
   "name": "python3"
  },
  "language_info": {
   "codemirror_mode": {
    "name": "ipython",
    "version": 3
   },
   "file_extension": ".py",
   "mimetype": "text/x-python",
   "name": "python",
   "nbconvert_exporter": "python",
   "pygments_lexer": "ipython3",
   "version": "3.9.7"
  }
 },
 "nbformat": 4,
 "nbformat_minor": 2
}
